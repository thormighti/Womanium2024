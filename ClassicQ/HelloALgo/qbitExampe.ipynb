{
 "cells": [
  {
   "cell_type": "code",
   "execution_count": 17,
   "id": "42bca20e-46da-47b6-974b-f3e8b67641c2",
   "metadata": {},
   "outputs": [],
   "source": [
    "#flipping the most significant bit\n",
    "from classiq import *\n",
    "\n",
    "@qfunc\n",
    "def flip_msb(reg: QArray):\n",
    "    X(reg[reg.len - 3])\n",
    "\n",
    "@qfunc\n",
    "def main(Indicator: Output[QBit]):\n",
    "    x = QNum('x')\n",
    "    allocate(4,x)\n",
    "    flip_msb(x)\n",
    "    Indicator |= x == 8\n",
    "    "
   ]
  },
  {
   "cell_type": "code",
   "execution_count": 18,
   "id": "207cbc05-d718-4d31-bd1d-8241c0a2b0e5",
   "metadata": {},
   "outputs": [
    {
     "name": "stdout",
     "output_type": "stream",
     "text": [
      "Opening: https://platform.classiq.io/circuit/9ac3b6a7-aa89-452e-bb10-5dcc32f23563?version=0.42.2\n"
     ]
    }
   ],
   "source": [
    "quantum_program = synthesize(create_model(main))\n",
    "show(quantum_program)"
   ]
  },
  {
   "cell_type": "code",
   "execution_count": 13,
   "id": "254501ec-97c1-4a95-a013-6807332b0570",
   "metadata": {},
   "outputs": [
    {
     "name": "stdout",
     "output_type": "stream",
     "text": [
      "5\n"
     ]
    }
   ],
   "source": [
    "x = [2,3,4,5]\n",
    "print(x[len(x) -1] )"
   ]
  },
  {
   "cell_type": "code",
   "execution_count": 19,
   "id": "a6292ddf-30c8-49d9-8895-e818ea2bbe8d",
   "metadata": {},
   "outputs": [],
   "source": [
    "write_qmod(create_model(main), \"quantum_variables_and_functions\")"
   ]
  },
  {
   "cell_type": "code",
   "execution_count": null,
   "id": "4aff61ae-8022-43fc-9731-21698c1c134b",
   "metadata": {},
   "outputs": [],
   "source": []
  }
 ],
 "metadata": {
  "kernelspec": {
   "display_name": "Python 3 (ipykernel)",
   "language": "python",
   "name": "python3"
  },
  "language_info": {
   "codemirror_mode": {
    "name": "ipython",
    "version": 3
   },
   "file_extension": ".py",
   "mimetype": "text/x-python",
   "name": "python",
   "nbconvert_exporter": "python",
   "pygments_lexer": "ipython3",
   "version": "3.11.9"
  }
 },
 "nbformat": 4,
 "nbformat_minor": 5
}
