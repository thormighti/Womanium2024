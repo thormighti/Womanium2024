{
 "cells": [
  {
   "cell_type": "code",
   "execution_count": 1,
   "id": "13658db3-53f2-443d-beb7-23fcba21f034",
   "metadata": {},
   "outputs": [
    {
     "name": "stdout",
     "output_type": "stream",
     "text": [
      "Your user code: ZMKF-FNSS\n",
      "If a browser doesn't automatically open, please visit this URL from any trusted device: https://auth.classiq.io/activate?user_code=ZMKF-FNSS\n"
     ]
    }
   ],
   "source": [
    "import classiq\n",
    "classiq.authenticate()"
   ]
  },
  {
   "cell_type": "code",
   "execution_count": 2,
   "id": "395b3f74-5e44-4ed7-8004-4f40516b1223",
   "metadata": {},
   "outputs": [
    {
     "name": "stdout",
     "output_type": "stream",
     "text": [
      "Name: classiq\n",
      "Version: 0.42.2\n",
      "Summary: Classiq's Python SDK for quantum computing\n",
      "Home-page: https://classiq.io\n",
      "Author: Classiq Technologies\n",
      "Author-email: support@classiq.io\n",
      "License: Proprietary\n",
      "Location: C:\\Users\\TheRabbi\\anaconda3\\envs\\ClassicQ\\Lib\\site-packages\n",
      "Requires: black, ConfigArgParse, httpx, keyring, matplotlib, networkx, numexpr, numpy, packaging, pandas, plotly, pydantic, Pyomo, scipy, sympy, tabulate\n",
      "Required-by: \n",
      "Note: you may need to restart the kernel to use updated packages.\n"
     ]
    }
   ],
   "source": [
    "pip show classiq"
   ]
  },
  {
   "cell_type": "code",
   "execution_count": 6,
   "id": "c647e57c-7461-4dbc-9ce7-c69d2de652cd",
   "metadata": {},
   "outputs": [],
   "source": [
    "from classiq import *\n",
    "\n",
    "@qfunc\n",
    "def main(x: Output[QNum], y: Output[QNum]):\n",
    "    allocate(4,x)\n",
    "    hadamard_transform(x) # creates a uniform superposition\n",
    "    y |= x**2 + 1"
   ]
  },
  {
   "cell_type": "code",
   "execution_count": 8,
   "id": "b0f2bedc-07a7-4cc9-86a2-b23b732d6d98",
   "metadata": {},
   "outputs": [],
   "source": [
    "quantum_program = synthesize(create_model(main))"
   ]
  },
  {
   "cell_type": "code",
   "execution_count": 9,
   "id": "e355e8af-c410-4e8e-aa50-e7c02dda76c7",
   "metadata": {},
   "outputs": [
    {
     "name": "stdout",
     "output_type": "stream",
     "text": [
      "Opening: https://platform.classiq.io/circuit/55924338-4985-4144-8db4-02e952c3204a?version=0.42.2\n"
     ]
    }
   ],
   "source": [
    "show(quantum_program)"
   ]
  },
  {
   "cell_type": "code",
   "execution_count": null,
   "id": "e256a844-2989-477c-b599-c5da23f00da4",
   "metadata": {},
   "outputs": [],
   "source": []
  }
 ],
 "metadata": {
  "kernelspec": {
   "display_name": "Python 3 (ipykernel)",
   "language": "python",
   "name": "python3"
  },
  "language_info": {
   "codemirror_mode": {
    "name": "ipython",
    "version": 3
   },
   "file_extension": ".py",
   "mimetype": "text/x-python",
   "name": "python",
   "nbconvert_exporter": "python",
   "pygments_lexer": "ipython3",
   "version": "3.11.9"
  }
 },
 "nbformat": 4,
 "nbformat_minor": 5
}
