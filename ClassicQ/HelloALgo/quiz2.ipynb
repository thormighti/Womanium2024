{
 "cells": [
  {
   "cell_type": "code",
   "execution_count": 5,
   "id": "2a4f6f84-9e57-4dd5-b1c4-93bc5eb7efe2",
   "metadata": {},
   "outputs": [],
   "source": [
    "from classiq import *\n",
    "\n",
    "@qfunc\n",
    "def lsb_flip(reg : QArray):\n",
    "    X(reg[0])\n",
    "\n",
    "@qfunc\n",
    "def main(indicator : Output[QBit]):\n",
    "    x = QNum('x')\n",
    "    allocate(4,x)\n",
    "    lsb_flip(x)\n",
    "    indicator |= x == 1"
   ]
  },
  {
   "cell_type": "code",
   "execution_count": 6,
   "id": "14bd0667-6f0d-4090-87b5-3ebaac33fd74",
   "metadata": {},
   "outputs": [
    {
     "name": "stdout",
     "output_type": "stream",
     "text": [
      "Opening: https://platform.classiq.io/circuit/d630d38b-e86d-4496-8f58-e1361ca5a9c9?version=0.42.2\n"
     ]
    }
   ],
   "source": [
    "q_program = synthesize(create_model(main))\n",
    "show(q_program)"
   ]
  },
  {
   "cell_type": "code",
   "execution_count": null,
   "id": "51a40c59-2f3e-41b3-bdc3-d042811635a7",
   "metadata": {},
   "outputs": [],
   "source": []
  }
 ],
 "metadata": {
  "kernelspec": {
   "display_name": "Python 3 (ipykernel)",
   "language": "python",
   "name": "python3"
  },
  "language_info": {
   "codemirror_mode": {
    "name": "ipython",
    "version": 3
   },
   "file_extension": ".py",
   "mimetype": "text/x-python",
   "name": "python",
   "nbconvert_exporter": "python",
   "pygments_lexer": "ipython3",
   "version": "3.11.9"
  }
 },
 "nbformat": 4,
 "nbformat_minor": 5
}
